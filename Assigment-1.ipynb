{
 "cells": [
  {
   "cell_type": "markdown",
   "id": "651cf925",
   "metadata": {},
   "source": [
    "# 2. Write a program that calculates the area of a rectangle given its length and width."
   ]
  },
  {
   "cell_type": "code",
   "execution_count": 1,
   "id": "b50ecc3f",
   "metadata": {},
   "outputs": [
    {
     "name": "stdout",
     "output_type": "stream",
     "text": [
      "write the length of triangle=67.0\n",
      "writh the width of triangle =56.9\n"
     ]
    }
   ],
   "source": [
    "length=input('write the length of triangle=')\n",
    "width=input('writh the width of triangle =')"
   ]
  },
  {
   "cell_type": "code",
   "execution_count": 2,
   "id": "dd061f5b",
   "metadata": {},
   "outputs": [
    {
     "name": "stdout",
     "output_type": "stream",
     "text": [
      "area of triangle= 1906.1499999999999\n"
     ]
    }
   ],
   "source": [
    "l=float(length)\n",
    "w=float(width)\n",
    "area=0.5*l*w\n",
    "print('area of triangle=',area)"
   ]
  },
  {
   "cell_type": "raw",
   "id": "a70e0d54",
   "metadata": {},
   "source": [
    "3.write a program that converts temperature from Fahrenheit to Celsius."
   ]
  },
  {
   "cell_type": "code",
   "execution_count": 3,
   "id": "331efed1",
   "metadata": {},
   "outputs": [
    {
     "name": "stdout",
     "output_type": "stream",
     "text": [
      "write the fahrenheit temperature=67.0\n"
     ]
    }
   ],
   "source": [
    "f=float(input('write the fahrenheit temperature='))\n"
   ]
  },
  {
   "cell_type": "code",
   "execution_count": 4,
   "id": "6215a7a2",
   "metadata": {},
   "outputs": [
    {
     "name": "stdout",
     "output_type": "stream",
     "text": [
      "The fahrenheit temperature 19.444444444444446 celceus\n"
     ]
    }
   ],
   "source": [
    "c=(5.0/9.0)*(f-32.0)\n",
    "print('The fahrenheit temperature',c,'celceus')"
   ]
  },
  {
   "cell_type": "markdown",
   "id": "94bbf55e",
   "metadata": {},
   "source": [
    "# 4. Write a program that calculates the volume of a sphere given its radius."
   ]
  },
  {
   "cell_type": "code",
   "execution_count": 5,
   "id": "5a07d8e3",
   "metadata": {},
   "outputs": [
    {
     "name": "stdout",
     "output_type": "stream",
     "text": [
      "write the radiu of sphere =78.9\n"
     ]
    }
   ],
   "source": [
    "r=float(input('write the radiu of sphere ='))"
   ]
  },
  {
   "cell_type": "code",
   "execution_count": 6,
   "id": "2a2e5d87",
   "metadata": {},
   "outputs": [
    {
     "name": "stdout",
     "output_type": "stream",
     "text": [
      "The volume of a sphere is=  330.49631999999997\n"
     ]
    }
   ],
   "source": [
    "area=(4.0/3.0)*3.1416*r\n",
    "print ('The volume of a sphere is= ',area)"
   ]
  },
  {
   "cell_type": "code",
   "execution_count": null,
   "id": "41aca18d",
   "metadata": {},
   "outputs": [],
   "source": [
    "5. Write a program that finds the average of three numbers."
   ]
  },
  {
   "cell_type": "code",
   "execution_count": 15,
   "id": "bae1a9fd",
   "metadata": {},
   "outputs": [
    {
     "name": "stdout",
     "output_type": "stream",
     "text": [
      "Enter three numbers separated by spaces: 10.4 34.6 45.5\n",
      "Numbers are: 10.4 34.6 45.5\n"
     ]
    }
   ],
   "source": [
    "# Using input and split to handle floating-point numbers\n",
    "numbers = input(\"Enter three numbers separated by spaces: \").split()\n",
    "a, b, c = map(float, numbers)\n",
    "print(\"Numbers are:\", a, b, c)\n"
   ]
  },
  {
   "cell_type": "code",
   "execution_count": 18,
   "id": "0ada2afd",
   "metadata": {},
   "outputs": [
    {
     "name": "stdout",
     "output_type": "stream",
     "text": [
      "The average of there number = 30.166666666666668\n"
     ]
    }
   ],
   "source": [
    "ave=(a+b+c)/3.0\n",
    "print('The average of there number =',ave)\n"
   ]
  },
  {
   "cell_type": "markdown",
   "id": "ac14bbf9",
   "metadata": {},
   "source": [
    "# 6.Write a program that determines if a number is even or odd."
   ]
  },
  {
   "cell_type": "code",
   "execution_count": 2,
   "id": "8d739587",
   "metadata": {},
   "outputs": [
    {
     "name": "stdout",
     "output_type": "stream",
     "text": [
      "Enter the number =56\n"
     ]
    }
   ],
   "source": [
    "num=int(input('Enter the number ='))"
   ]
  },
  {
   "cell_type": "code",
   "execution_count": 3,
   "id": "58a20052",
   "metadata": {},
   "outputs": [
    {
     "name": "stdout",
     "output_type": "stream",
     "text": [
      "The number is even\n"
     ]
    }
   ],
   "source": [
    "\n",
    "\n",
    "# Check if the number is even or odd\n",
    "if (num % 2) == 0:\n",
    "    print('The number is even')\n",
    "else:\n",
    "    print('The number is odd')\n"
   ]
  },
  {
   "cell_type": "code",
   "execution_count": 24,
   "id": "e50b5da8",
   "metadata": {},
   "outputs": [
    {
     "name": "stdout",
     "output_type": "stream",
     "text": [
      "enter the number=31\n"
     ]
    }
   ],
   "source": [
    "num=int(input('enter the number=',))"
   ]
  },
  {
   "cell_type": "code",
   "execution_count": 25,
   "id": "b0f5accf",
   "metadata": {},
   "outputs": [
    {
     "name": "stdout",
     "output_type": "stream",
     "text": [
      "The number is odd\n"
     ]
    }
   ],
   "source": [
    "if num % 2 == 0:\n",
    "    print('The number is even')\n",
    "else:\n",
    "    print('The number is odd')"
   ]
  },
  {
   "cell_type": "markdown",
   "id": "271fe8d1",
   "metadata": {},
   "source": [
    "# . Write a program that finds the maximum of three numbers"
   ]
  },
  {
   "cell_type": "code",
   "execution_count": 1,
   "id": "ec35efc4",
   "metadata": {},
   "outputs": [
    {
     "name": "stdout",
     "output_type": "stream",
     "text": [
      "Enter the three number =24.6 56.7 78.0\n"
     ]
    }
   ],
   "source": [
    "numbers=input('Enter the three number =').split()\n",
    "a,b,c=map(float,numbers)"
   ]
  },
  {
   "cell_type": "code",
   "execution_count": 3,
   "id": "6ff5575b",
   "metadata": {},
   "outputs": [
    {
     "name": "stdout",
     "output_type": "stream",
     "text": [
      "c is the greatest number\n"
     ]
    }
   ],
   "source": [
    "if (a>b and a>c):\n",
    "        print('a is the leargest number')\n",
    "elif(b>a and b>c):\n",
    "    print('b is the  greatest number')\n",
    "else:\n",
    "    print('c is the greatest number')"
   ]
  },
  {
   "cell_type": "markdown",
   "id": "a184ecc6",
   "metadata": {},
   "source": [
    "# 7 Write a program that determines if a year is a leap year or not."
   ]
  },
  {
   "cell_type": "code",
   "execution_count": 5,
   "id": "891366dd",
   "metadata": {},
   "outputs": [
    {
     "name": "stdout",
     "output_type": "stream",
     "text": [
      "Enter the year =42\n",
      "The year is false\n"
     ]
    }
   ],
   "source": [
    "def is_leap_year(year):\n",
    "    if (year%4==0):\n",
    "        if(year%100==0):\n",
    "            if(year%400==0):\n",
    "                return True\n",
    "            else:\n",
    "                return False\n",
    "        else:\n",
    "            return True\n",
    "    else:\n",
    "        return False\n",
    "year=int(input('Enter the year ='))\n",
    "if is_leap_year(year):\n",
    "    print('The year is leap year')\n",
    "else:\n",
    "    print('The year is not leap year')\n",
    "    \n",
    "            "
   ]
  },
  {
   "cell_type": "markdown",
   "id": "e434b04c",
   "metadata": {},
   "source": [
    "# Write a program that determines if a number is positive, negative, or zero.\n"
   ]
  },
  {
   "cell_type": "code",
   "execution_count": 9,
   "id": "06f2d089",
   "metadata": {},
   "outputs": [
    {
     "name": "stdout",
     "output_type": "stream",
     "text": [
      "Enter the number 45\n",
      "The number is positive\n"
     ]
    }
   ],
   "source": [
    "number=float(input('Enter the number '))\n",
    "if(number>0):\n",
    "    print('The number is positive')\n",
    "elif(number<0):\n",
    "    print('the number is nagitiv')\n",
    "else:\n",
    "    print('The number is zero')"
   ]
  },
  {
   "cell_type": "markdown",
   "id": "71263b12",
   "metadata": {},
   "source": [
    "# Write a program that calculates the grade based on a given percentage"
   ]
  },
  {
   "cell_type": "code",
   "execution_count": null,
   "id": "2594c65b",
   "metadata": {},
   "outputs": [],
   "source": [
    "gn=float(input('Enter the obtain mark='))\n",
    "fn=float(input('Enter the maximum number ='))\n",
    "per=(gn/fn)*100\n",
    "def grade_calculate(per):\n",
    "    \n",
    "    if (per>90):\n",
    "        return 'A'\n",
    "    elif (per>70):\n",
    "        return 'B'\n",
    "    elif(per>60):\n",
    "        return 'C'\n",
    "    else:\n",
    "        return 'F'\n",
    "    \n",
    "grade=grade_calculate(per)\n",
    "#print(f'The grade for {per}% is {grade}.')\n",
    "        "
   ]
  },
  {
   "cell_type": "code",
   "execution_count": null,
   "id": "559348d0",
   "metadata": {},
   "outputs": [],
   "source": [
    "print(f'The grade for {per}% is {grade}.')\n"
   ]
  },
  {
   "cell_type": "markdown",
   "id": "46f11172",
   "metadata": {},
   "source": [
    "# Write a program that prints the first `n` natural numbers."
   ]
  },
  {
   "cell_type": "code",
   "execution_count": null,
   "id": "d1f8f8ab",
   "metadata": {},
   "outputs": [],
   "source": [
    "def print_natural_numbers(n):\n",
    "    for i in range(1,n+1):\n",
    "        print(i,end=\" \")\n",
    "    \n",
    "n=int(input('Enter the number ='))\n",
    "print_natural_numbers(n)"
   ]
  },
  {
   "cell_type": "code",
   "execution_count": 2,
   "id": "e5b05684",
   "metadata": {},
   "outputs": [
    {
     "name": "stdout",
     "output_type": "stream",
     "text": [
      "Enter a number to calculate its factorial: 7\n",
      "The factorial of 7 is 5040.\n"
     ]
    }
   ],
   "source": [
    "def factorial(n):\n",
    "    if n < 0:\n",
    "        return \"Factorial is not defined for negative numbers.\"\n",
    "    elif n == 0:\n",
    "        return 1  # By definition, 0! is 1\n",
    "    else:\n",
    "        result = 1\n",
    "        for i in range(1, n + 1):\n",
    "            result *= i\n",
    "        return result\n",
    "\n",
    "# Get the number from the user\n",
    "number = int(input(\"Enter a number to calculate its factorial: \"))\n",
    "result = factorial(number)\n",
    "print(f\"The factorial of {number} is {result}.\")\n"
   ]
  },
  {
   "cell_type": "markdown",
   "id": "82d6c813",
   "metadata": {},
   "source": [
    "# Write a program that generates a Fibonacci sequence of length `n`."
   ]
  },
  {
   "cell_type": "code",
   "execution_count": 8,
   "id": "28270cdb",
   "metadata": {},
   "outputs": [
    {
     "name": "stdout",
     "output_type": "stream",
     "text": [
      "Enter the number=34\n",
      "The factorial number is =295232799039604140847618609643520000000\n"
     ]
    }
   ],
   "source": [
    "def cheak_factorial(n):\n",
    "    if n==0:\n",
    "        return 'Undefine'\n",
    "    elif n<0:\n",
    "        return 'The factorial is not efine for nagitave number '\n",
    "    else:\n",
    "        result=1\n",
    "        for i in  range (1,n+1):\n",
    "            result *=i;\n",
    "        return result\n",
    "n=int(input('Enter the number='))\n",
    "fact=cheak_factorial(n)\n",
    "print(f'The factorial number is ={fact}')"
   ]
  },
  {
   "cell_type": "markdown",
   "id": "2786ac46",
   "metadata": {},
   "source": [
    "# Write a program that checks if a given number is prime or not."
   ]
  },
  {
   "cell_type": "code",
   "execution_count": 2,
   "id": "813fbccf",
   "metadata": {},
   "outputs": [
    {
     "name": "stdout",
     "output_type": "stream",
     "text": [
      "Enter the number =34\n",
      "The number is not prime\n"
     ]
    }
   ],
   "source": [
    "def cheka_number(n):\n",
    "    if (n==1 or n== 0):\n",
    "        return False\n",
    "    else:\n",
    "        for i in range(1,n+1):\n",
    "            if(n%i==0):\n",
    "                return False\n",
    "        return True\n",
    "n=int(input('Enter the number ='))\n",
    "if cheka_number(n):\n",
    "    print(f'{n} is prime number')\n",
    "else:\n",
    "    print('The number is not prime')"
   ]
  },
  {
   "cell_type": "markdown",
   "id": "4836cbd7",
   "metadata": {},
   "source": [
    "# Write a program that prints the multiplication table of a given number.\n"
   ]
  },
  {
   "cell_type": "code",
   "execution_count": 3,
   "id": "a01da551",
   "metadata": {},
   "outputs": [
    {
     "name": "stdout",
     "output_type": "stream",
     "text": [
      "Enter the number for multiplication table23\n",
      "The multiplication table for23\n",
      " 23 * 1 = 23\n",
      " 23 * 2 = 46\n",
      " 23 * 3 = 69\n",
      " 23 * 4 = 92\n",
      " 23 * 5 = 115\n",
      " 23 * 6 = 138\n",
      " 23 * 7 = 161\n",
      " 23 * 8 = 184\n",
      " 23 * 9 = 207\n",
      " 23 * 10 = 230\n"
     ]
    }
   ],
   "source": [
    "def multiplication_table(n):\n",
    "    print(f'The multiplication table for{n}')\n",
    "    for i in range(1,11):\n",
    "        print(f' {n} * {i} = {i*n}')\n",
    "n=int(input('Enter the number for multiplication table'))\n",
    "multiplication_table(n)"
   ]
  },
  {
   "cell_type": "markdown",
   "id": "5dd1d4f4",
   "metadata": {},
   "source": [
    "# Write a program that finds the sum of all even numbers between 1 and `n`"
   ]
  },
  {
   "cell_type": "code",
   "execution_count": 9,
   "id": "f1ba6549",
   "metadata": {},
   "outputs": [
    {
     "name": "stdout",
     "output_type": "stream",
     "text": [
      "Enter the number =10\n",
      "The number of sumation is 25\n"
     ]
    }
   ],
   "source": [
    "def sum_n(n):\n",
    "    sum=0\n",
    "    for i in range(1,n+1,2):\n",
    "        sum =sum+i\n",
    "    return sum\n",
    "n=int(input('Enter the number ='))\n",
    "sumation=sum_n(n)\n",
    "print(f'The number of sumation is {sumation}')"
   ]
  },
  {
   "cell_type": "markdown",
   "id": "803c82bb",
   "metadata": {},
   "source": [
    "# Write a program that reverses a given number"
   ]
  },
  {
   "cell_type": "code",
   "execution_count": 10,
   "id": "e88a4fa9",
   "metadata": {},
   "outputs": [
    {
     "name": "stdout",
     "output_type": "stream",
     "text": [
      "Enter a number to reverse: 45\n",
      "The reversed number of 45 is: 54\n"
     ]
    }
   ],
   "source": [
    "def reverse_number(number):\n",
    "    reversed_num = 0\n",
    "    while number > 0:\n",
    "        digit = number % 10\n",
    "        reversed_num = reversed_num * 10 + digit\n",
    "        number //= 10 # last number is vanish\n",
    "    return reversed_num\n",
    "\n",
    "# Get the number from the user\n",
    "number = int(input(\"Enter a number to reverse: \"))\n",
    "reversed_number = reverse_number(number)\n",
    "print(f\"The reversed number of {number} is: {reversed_number}\")\n"
   ]
  },
  {
   "cell_type": "markdown",
   "id": "8a0f09ee",
   "metadata": {},
   "source": [
    "# . Write a program that checks if a given string, is a palindrome.\n"
   ]
  },
  {
   "cell_type": "code",
   "execution_count": 11,
   "id": "98f150a7",
   "metadata": {},
   "outputs": [
    {
     "name": "stdout",
     "output_type": "stream",
     "text": [
      "Enter a string to check if it is a palindrome: t kdfnf safjslk\n",
      "The string 't kdfnf safjslk' is not a palindrome.\n"
     ]
    }
   ],
   "source": [
    "def is_palindrome(string):\n",
    "    # Convert the string to lowercase and remove spaces\n",
    "    string = string.lower().replace(\" \", \"\")\n",
    "    # Check if the string is equal to its reverse\n",
    "    return string == string[::-1] # ckeal is equal or not\n",
    "\n",
    "# Get the string from the user\n",
    "string = input(\"Enter a string to check if it is a palindrome: \")\n",
    "if is_palindrome(string):\n",
    "    print(f\"The string '{string}' is a palindrome.\")\n",
    "else:\n",
    "    print(f\"The string '{string}' is not a palindrome.\")\n"
   ]
  },
  {
   "cell_type": "markdown",
   "id": "fed7fc44",
   "metadata": {},
   "source": [
    "\n",
    "# Write a program that generates a random number and allows the user to guess it"
   ]
  },
  {
   "cell_type": "code",
   "execution_count": 23,
   "id": "e06f937f",
   "metadata": {},
   "outputs": [],
   "source": [
    "import random\n",
    "def guess_number():\n",
    " \n",
    "    n=random.randint(1,100)\n",
    "    print('You have to guess number. \\n you get five maximum five chance')\n",
    "    max_attempt=5\n",
    "    attempt=0\n",
    "    while attempt<max_attempt :\n",
    "            guess=int(input('Enter the number ='))\n",
    "            attempt+=1\n",
    "            if (guess == n):\n",
    "                print(f'Congratulation You guess number is {n} is match')\n",
    "            elif (guess<n):\n",
    "                print(f'The number {n} is low.Try again.')\n",
    "            else:\n",
    "                print(f'The number {n} is high')\n",
    "    else:\n",
    "        print('Your five attempt is finish')\n",
    "            \n"
   ]
  },
  {
   "cell_type": "code",
   "execution_count": 24,
   "id": "31eafc61",
   "metadata": {},
   "outputs": [
    {
     "name": "stdout",
     "output_type": "stream",
     "text": [
      "You have to guess number. \n",
      " you get five maximum five chance\n",
      "Enter the number =45\n",
      "The number 26 is high\n",
      "Enter the number =12\n",
      "The number 26 is low.Try again.\n",
      "Enter the number =21\n",
      "The number 26 is low.Try again.\n",
      "Enter the number =23\n",
      "The number 26 is low.Try again.\n",
      "Enter the number =24\n",
      "The number 26 is low.Try again.\n",
      "Your five attempt is finish\n"
     ]
    }
   ],
   "source": [
    "guess_number()"
   ]
  },
  {
   "cell_type": "markdown",
   "id": "035dcaa3",
   "metadata": {},
   "source": [
    "# . Write a program that finds the greatest common divisor (GCD) of two numbers."
   ]
  },
  {
   "cell_type": "code",
   "execution_count": null,
   "id": "001d109d",
   "metadata": {},
   "outputs": [],
   "source": [
    "def gcd(a, b):\n",
    "    while b != 0:\n",
    "        a, b = b, a % b\n",
    "    return a\n",
    "\n",
    "# Get the two numbers from the user\n",
    "num1 = int(input(\"Enter the first number: \"))\n",
    "num2 = int(input(\"Enter the second number: \"))\n",
    "\n",
    "# Calculate and print the GCD\n",
    "result = gcd(num1, num2)\n",
    "print(f\"The greatest common divisor (GCD) of {num1} and {num2} is: {result}\")\n"
   ]
  }
 ],
 "metadata": {
  "kernelspec": {
   "display_name": "Python 3 (ipykernel)",
   "language": "python",
   "name": "python3"
  },
  "language_info": {
   "codemirror_mode": {
    "name": "ipython",
    "version": 3
   },
   "file_extension": ".py",
   "mimetype": "text/x-python",
   "name": "python",
   "nbconvert_exporter": "python",
   "pygments_lexer": "ipython3",
   "version": "3.11.5"
  }
 },
 "nbformat": 4,
 "nbformat_minor": 5
}
